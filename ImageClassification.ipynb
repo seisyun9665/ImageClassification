{
 "cells": [
  {
   "cell_type": "code",
   "execution_count": 1,
   "metadata": {},
   "outputs": [],
   "source": [
    "# 画像クラスタリングを実装していきます\n",
    "\n",
    "# 1. torchvision によって提供されている事前学習済みモデルMobilenetV3を用いて画像から特徴量を抽出\n",
    "# 2. 抽出した特徴量を用いてX-meansによるクラスタリングを行い、画像を分類"
   ]
  },
  {
   "cell_type": "code",
   "execution_count": 2,
   "metadata": {},
   "outputs": [],
   "source": [
    "import json\n",
    "from pathlib import Path\n",
    "\n",
    "import numpy as np\n",
    "import torch\n",
    "import torchvision\n",
    "from PIL import Image\n",
    "from torch.nn import functional as F\n",
    "from torch.utils.data import DataLoader, Dataset\n",
    "from torchvision import transforms\n",
    "from torchvision.datasets.utils import download_url"
   ]
  },
  {
   "cell_type": "code",
   "execution_count": 3,
   "metadata": {},
   "outputs": [],
   "source": [
    "# デバイスを作成\n",
    "def get_device(use_gpu):\n",
    "    if use_gpu and torch.cuda.is_available():\n",
    "        # これを有効にしないと、計算した勾配が毎回異なり、再現性が担保できない。\n",
    "        torch.backends.cudnn.deterministic = True\n",
    "        return torch.device(\"cuda\")\n",
    "    else:\n",
    "        return torch.device(\"cpu\")\n",
    "\n",
    "\n",
    "# デバイスを選択する。\n",
    "device = get_device(use_gpu=True)"
   ]
  },
  {
   "cell_type": "code",
   "execution_count": 4,
   "metadata": {},
   "outputs": [],
   "source": [
    "# モデルを作成\n",
    "# model = torchvision.models.resnet50(pretrained=True).to(device)\n",
    "model = torchvision.models.mobilenet_v3_large(pretraind=True).to(device)"
   ]
  },
  {
   "cell_type": "code",
   "execution_count": 5,
   "metadata": {},
   "outputs": [],
   "source": [
    "transform = transforms.Compose(\n",
    "    [\n",
    "        transforms.Resize(256),  # (256, 256) で切り抜く。\n",
    "        transforms.CenterCrop(224),  # 画像の中心に合わせて、(224, 224) で切り抜く\n",
    "        transforms.ToTensor(),  # テンソルにする。\n",
    "        transforms.Normalize(\n",
    "            mean=[0.485, 0.456, 0.406], std=[0.229, 0.224, 0.225]\n",
    "        ),  # 標準化する。\n",
    "    ]\n",
    ")"
   ]
  },
  {
   "cell_type": "code",
   "execution_count": 6,
   "metadata": {},
   "outputs": [],
   "source": [
    "img = Image.open(\"../ImageClassification/image/5b9b2794954e4694a45fc424a8643081_i1_0.jpg\")\n",
    "inputs = transform(img)\n",
    "inputs = inputs.unsqueeze(0).to(device)"
   ]
  },
  {
   "cell_type": "code",
   "execution_count": 7,
   "metadata": {},
   "outputs": [],
   "source": [
    "model.eval()\n",
    "outputs = model(inputs)"
   ]
  },
  {
   "cell_type": "code",
   "execution_count": 8,
   "metadata": {},
   "outputs": [
    {
     "data": {
      "text/plain": [
       "tensor([[-1.6881e-10,  2.5360e-10,  4.9840e-11, -3.0536e-10, -4.1926e-12,\n",
       "         -2.7196e-10,  6.8038e-11, -2.2059e-11,  2.9528e-10, -1.8589e-10,\n",
       "          6.0097e-11,  6.6696e-11,  1.9577e-10,  2.1432e-10, -1.1470e-10,\n",
       "         -1.3177e-10,  1.1880e-10, -8.8978e-11, -7.4500e-11,  6.7413e-11,\n",
       "         -9.6125e-11, -2.3167e-10,  1.1042e-10,  5.9711e-12,  9.9207e-11,\n",
       "         -3.1731e-10,  2.4901e-10, -8.6491e-12,  7.3986e-11, -2.6642e-10,\n",
       "          2.5640e-10, -1.0614e-10, -1.2564e-10, -2.9115e-11, -3.4047e-10,\n",
       "         -6.3184e-11, -7.1047e-11,  3.6728e-11,  6.3741e-11, -7.9867e-11,\n",
       "          1.4906e-10,  1.1749e-10,  1.0829e-10,  1.4762e-10,  3.4388e-11,\n",
       "          9.0688e-11, -1.4378e-10,  2.2236e-10,  3.6753e-10, -1.1473e-10,\n",
       "         -2.2121e-10, -4.0426e-10, -3.5669e-10,  1.5349e-10,  9.3492e-12,\n",
       "         -1.1859e-10, -2.1821e-10, -4.8556e-11, -3.3680e-10, -1.8277e-10,\n",
       "          1.5105e-10,  2.2493e-10,  7.8556e-11,  1.2733e-10,  1.5157e-10,\n",
       "          9.0358e-11, -3.3199e-12,  2.5847e-10, -9.9247e-11, -3.0379e-10,\n",
       "         -1.9940e-10, -7.1893e-11,  9.1809e-11, -1.6963e-10,  1.4182e-10,\n",
       "         -7.5989e-11,  1.7543e-11,  2.6910e-10,  2.7006e-10, -2.1423e-11,\n",
       "         -4.1690e-10,  4.5885e-11,  1.4556e-10, -1.0866e-10, -7.7316e-11,\n",
       "         -1.1495e-10, -8.3582e-13,  1.2102e-11,  3.0744e-10,  2.5486e-12,\n",
       "          1.5762e-10,  3.0625e-10,  5.1652e-11, -2.5867e-10,  5.3125e-11,\n",
       "          6.7753e-11, -8.3772e-11, -8.9026e-11,  1.4605e-10,  1.7140e-10,\n",
       "         -1.6637e-10,  2.1421e-10,  1.1925e-10, -1.1546e-10,  2.5248e-10,\n",
       "          1.5110e-10, -6.5961e-11,  8.8035e-11, -1.5407e-10,  2.8861e-10,\n",
       "          3.2590e-10, -2.0520e-10,  3.0073e-10,  1.4930e-10, -3.3109e-11,\n",
       "         -1.6595e-10, -2.7544e-10,  4.3903e-10, -2.7223e-10, -1.2402e-10,\n",
       "         -6.1363e-11,  1.7397e-10,  2.8693e-11, -4.5861e-11,  4.8138e-11,\n",
       "          7.6421e-11,  1.9302e-10, -6.5633e-11,  3.2395e-10,  5.1992e-11,\n",
       "         -1.2252e-10,  6.4496e-11,  2.7733e-10, -1.5052e-10,  2.4153e-10,\n",
       "         -2.5234e-10,  7.9945e-11, -1.8228e-10,  4.6672e-11,  3.1476e-10,\n",
       "          2.2971e-10,  1.8647e-10,  4.6030e-10,  1.9278e-10, -4.7573e-11,\n",
       "          2.0515e-10, -2.2991e-10,  1.6622e-10, -8.5083e-11,  2.7644e-11,\n",
       "         -1.5772e-10, -8.4745e-11,  6.6385e-11,  1.1528e-10, -3.2592e-11,\n",
       "          1.0369e-10, -1.0916e-10, -1.7427e-10, -2.2800e-10,  2.1652e-10,\n",
       "         -7.5458e-11, -5.6744e-11,  2.8426e-11,  1.4297e-10, -4.4765e-10,\n",
       "         -1.0689e-10,  1.2904e-10,  1.7694e-10,  6.4656e-11, -1.6269e-10,\n",
       "          7.8389e-11,  2.3318e-10,  1.4299e-10, -1.9853e-10,  7.5870e-11,\n",
       "          8.2811e-12, -3.5672e-10, -2.6760e-10, -2.6610e-10, -2.7298e-10,\n",
       "          2.8936e-10,  1.4306e-10, -1.9396e-10, -1.2619e-10,  1.6065e-10,\n",
       "          1.5831e-10, -2.3817e-10, -1.2599e-10, -2.9448e-10, -8.5745e-12,\n",
       "          5.1587e-11,  5.4685e-12,  6.3498e-11,  1.5738e-10,  2.7742e-10,\n",
       "         -2.7797e-10,  2.5696e-10,  2.3209e-10,  5.8593e-11, -3.5990e-10,\n",
       "         -8.9044e-11, -4.0835e-10,  1.8818e-10, -2.8833e-10, -1.2989e-11,\n",
       "          1.6160e-10, -4.0820e-12, -1.2256e-10, -1.2003e-10,  8.2503e-11,\n",
       "         -2.2263e-11,  2.1616e-10,  2.6649e-10, -3.1871e-10,  5.4211e-11,\n",
       "         -2.7433e-10,  1.7930e-10, -1.7740e-11,  9.0572e-11, -5.1483e-11,\n",
       "          4.5156e-11,  5.2312e-11, -8.7949e-11,  8.2678e-11,  2.2784e-10,\n",
       "          4.6416e-10,  1.7267e-10, -2.6814e-10,  1.1345e-10,  1.1960e-10,\n",
       "         -1.4995e-11, -8.2636e-12, -5.5208e-11, -8.2756e-11, -1.9321e-10,\n",
       "         -7.5526e-11,  1.4545e-10, -1.3040e-10, -1.8475e-10, -5.2795e-11,\n",
       "         -3.3076e-10, -4.4907e-11,  4.9216e-11,  5.4378e-11, -1.5692e-10,\n",
       "         -9.6284e-11,  2.8370e-10,  1.8603e-10,  1.9149e-10,  1.0765e-10,\n",
       "          1.6462e-10,  6.8634e-11,  3.8525e-10,  1.0178e-10,  1.0156e-10,\n",
       "         -1.6540e-10, -2.9967e-10,  9.4783e-11, -1.0340e-10, -1.5643e-10,\n",
       "          3.5733e-10, -4.8636e-11, -6.8479e-11,  2.8095e-10,  5.3575e-11,\n",
       "         -5.2313e-12,  6.2405e-11,  2.7291e-10,  2.6314e-11,  5.6150e-11,\n",
       "         -1.6194e-10, -1.6000e-10, -4.6000e-11, -1.0314e-10, -1.0189e-10,\n",
       "         -2.0019e-10,  6.8586e-11, -1.9164e-10,  2.3275e-10, -1.5925e-10,\n",
       "          1.1185e-10, -1.5768e-10, -3.6862e-10, -2.5037e-10,  1.2821e-10,\n",
       "          1.5124e-10,  5.3548e-11,  3.4454e-10,  1.4731e-11,  7.0401e-11,\n",
       "          5.1294e-11, -1.3163e-10, -1.7599e-10,  7.2016e-11,  1.3219e-10,\n",
       "         -6.7310e-11,  2.1420e-10, -9.6478e-11,  3.7235e-10,  2.1959e-10,\n",
       "          1.5447e-10, -1.8916e-10, -1.6527e-10,  1.0361e-10, -3.4971e-12,\n",
       "          1.1401e-10, -2.3981e-10, -3.5533e-11, -1.0035e-10,  2.4580e-10,\n",
       "         -4.3797e-10, -1.7758e-10, -1.6024e-10,  1.1993e-10,  3.3382e-10,\n",
       "         -2.8174e-10, -2.5444e-10,  2.2601e-10, -2.5165e-10, -2.4331e-10,\n",
       "          3.5586e-10, -6.7139e-11,  2.7683e-10,  2.0509e-10, -7.1442e-11,\n",
       "          3.9312e-10,  2.8111e-10, -4.7394e-11, -3.2016e-10,  2.2020e-10,\n",
       "          1.3937e-10, -1.8714e-10,  2.0065e-10, -3.6024e-10, -2.7606e-11,\n",
       "         -3.1447e-10,  8.6619e-11, -2.2037e-10,  3.4386e-10, -2.1650e-10,\n",
       "         -2.6388e-10,  2.8278e-10,  2.2489e-10,  9.8112e-12,  3.6094e-11,\n",
       "         -2.4167e-10,  1.3653e-10, -2.1560e-11,  1.5209e-10,  2.3462e-13,\n",
       "         -1.9639e-10,  2.5911e-11,  3.5076e-11, -5.6460e-11, -6.4301e-11,\n",
       "          4.2105e-10,  1.0938e-10, -2.0731e-11,  2.4796e-11,  1.6469e-10,\n",
       "          4.0487e-11, -1.6078e-10,  3.9410e-10, -1.3300e-10, -2.1268e-10,\n",
       "          4.9508e-12, -6.6906e-11,  1.9018e-10, -1.8604e-10, -7.4199e-11,\n",
       "         -9.0840e-11,  2.3726e-11,  3.4077e-11, -8.9082e-11,  3.3395e-11,\n",
       "         -9.8825e-11, -1.0509e-10,  9.1161e-11, -1.9228e-10,  2.2313e-10,\n",
       "          1.8999e-10, -8.9913e-11,  4.0307e-11,  4.1621e-11, -1.6136e-10,\n",
       "          1.7194e-10, -1.3197e-10,  1.3728e-10, -2.2655e-11,  2.0028e-10,\n",
       "         -1.5875e-10,  1.9382e-11, -3.9707e-11,  2.7426e-10,  3.5802e-10,\n",
       "         -2.0436e-10, -9.3304e-11,  5.2925e-11, -3.6751e-10,  4.2703e-10,\n",
       "         -2.3491e-10,  6.8632e-11, -9.1181e-11, -1.4655e-10, -3.4673e-10,\n",
       "          1.4771e-10,  9.2577e-11, -5.7334e-11, -6.0347e-11, -2.3788e-11,\n",
       "          2.0124e-10, -7.4505e-11,  1.3087e-10, -1.7127e-10,  4.1535e-11,\n",
       "         -1.0672e-10,  1.8509e-10,  8.1571e-11, -4.7524e-11,  1.9942e-10,\n",
       "         -3.6633e-10,  2.9769e-10,  4.0674e-10,  2.0636e-10, -3.4278e-10,\n",
       "         -1.0116e-10,  1.4367e-10, -1.7384e-10,  8.3269e-11, -2.6840e-10,\n",
       "          2.5701e-10, -2.4934e-10, -1.1799e-10,  2.7692e-11,  2.5481e-10,\n",
       "         -9.7980e-11, -3.2188e-10,  1.1965e-10,  1.0980e-10,  1.7829e-10,\n",
       "          8.2802e-11,  1.6062e-10, -2.9218e-10,  7.3723e-11,  2.9868e-13,\n",
       "          2.6370e-10, -1.1703e-10,  5.1612e-11,  8.9513e-11, -1.3950e-10,\n",
       "          3.4044e-11, -2.1714e-10,  1.9936e-10,  2.3241e-10, -2.5528e-10,\n",
       "          1.4050e-10, -4.9280e-11, -8.0163e-11,  2.4103e-10,  1.7180e-10,\n",
       "          1.7374e-10,  8.8319e-11,  1.0370e-10,  2.0851e-10, -2.8143e-10,\n",
       "          1.6665e-10, -1.9773e-10,  1.8574e-10,  2.8419e-10,  7.5102e-11,\n",
       "          1.5830e-11, -2.2246e-10,  1.7448e-10,  1.8775e-10,  8.0794e-11,\n",
       "         -9.4572e-12, -2.3912e-10,  1.3945e-10, -9.1420e-11, -1.1358e-10,\n",
       "         -2.2553e-10,  1.8562e-10, -1.1946e-10,  4.6391e-11, -1.3503e-10,\n",
       "         -2.5742e-10, -2.4731e-12, -1.6829e-10,  1.4043e-10, -2.3485e-10,\n",
       "          2.0569e-10, -9.6561e-12, -1.5738e-10, -1.7560e-10,  3.1863e-11,\n",
       "         -3.8069e-11, -3.7876e-10,  4.9903e-11,  2.9672e-11,  1.7164e-10,\n",
       "          3.9398e-10, -8.5168e-11, -1.2749e-10, -3.2867e-10, -1.0145e-11,\n",
       "          9.2494e-11, -4.4248e-10,  3.5333e-12, -5.0174e-11, -2.0229e-10,\n",
       "          7.9714e-11, -1.5730e-10, -5.6446e-11,  2.8866e-10,  1.6660e-10,\n",
       "         -3.9808e-11, -1.2440e-11,  2.2865e-10,  3.0528e-10, -2.0736e-12,\n",
       "         -9.1937e-12,  2.1565e-10, -9.2677e-11, -4.9401e-11, -2.1133e-10,\n",
       "         -2.0715e-10,  2.8632e-10, -3.6081e-11, -4.0183e-10, -8.0898e-11,\n",
       "         -1.2810e-10, -1.7275e-10,  2.7922e-10, -1.6304e-10, -1.0921e-11,\n",
       "         -6.6010e-11,  1.6432e-10, -4.3048e-11,  2.8739e-11, -4.5225e-11,\n",
       "          1.0605e-10,  1.1453e-10, -2.9740e-10,  2.3363e-10,  2.1372e-10,\n",
       "          1.0335e-12,  3.1295e-10,  2.5139e-10,  5.6089e-11,  6.2756e-12,\n",
       "         -1.4841e-12, -3.6987e-11, -2.2706e-10,  2.9828e-10,  1.9838e-10,\n",
       "         -3.3099e-10, -9.0304e-11, -3.0065e-10, -2.2242e-10, -1.5290e-10,\n",
       "         -3.0384e-10, -3.7849e-10,  2.6258e-10, -9.0271e-11, -3.2451e-11,\n",
       "          1.6952e-10,  2.0460e-10,  7.9588e-11, -2.5421e-10, -8.2497e-11,\n",
       "         -1.3121e-10,  8.0646e-11, -7.1375e-12,  3.3207e-10,  1.5264e-10,\n",
       "          2.4726e-10,  1.5035e-11,  2.8403e-10,  8.5688e-11, -5.2425e-11,\n",
       "         -1.7120e-10,  2.8440e-10, -1.2546e-11,  1.7506e-10,  2.9607e-10,\n",
       "          6.2512e-11,  8.9281e-11,  4.1423e-11,  3.7561e-10,  1.2149e-10,\n",
       "         -2.0991e-11, -1.8520e-10, -2.8345e-11,  6.8716e-11, -1.5531e-10,\n",
       "          8.0233e-12,  2.4419e-10, -1.5768e-10,  2.0243e-10,  2.9286e-11,\n",
       "          2.8207e-10, -6.1417e-11, -3.6780e-11,  6.7851e-11, -6.2813e-11,\n",
       "         -1.2073e-10,  3.9540e-10, -8.3213e-11,  1.0907e-10, -1.4325e-10,\n",
       "          1.9945e-10,  2.2543e-11, -1.6754e-10,  3.4466e-10, -2.0250e-10,\n",
       "          2.5943e-10,  1.3406e-10, -1.1292e-10,  1.4850e-11, -1.0880e-10,\n",
       "          4.3818e-11,  5.7492e-10, -6.0759e-11,  1.6421e-10, -1.8450e-10,\n",
       "         -2.6732e-11,  2.1786e-11,  1.7850e-10, -1.0336e-10,  2.5488e-10,\n",
       "          8.6297e-11, -1.4467e-10, -1.9767e-10, -1.4236e-10,  1.1485e-10,\n",
       "         -6.2709e-10, -6.7367e-12, -2.8277e-10, -3.0294e-11,  1.1495e-10,\n",
       "         -2.6954e-11,  1.0221e-10,  3.1989e-10,  2.5542e-10, -1.3043e-10,\n",
       "          1.0672e-10, -3.0060e-11, -2.3384e-11, -2.1625e-10, -3.8117e-11,\n",
       "          2.6688e-10, -5.9076e-11, -2.1750e-10,  3.2395e-10, -9.5121e-12,\n",
       "         -2.3819e-10,  1.1691e-10,  1.7536e-10,  1.0883e-10, -1.3447e-10,\n",
       "         -3.4714e-11, -9.9186e-11, -2.0299e-10, -1.4549e-10, -4.9791e-10,\n",
       "         -2.1969e-10,  3.3601e-11, -1.6894e-10,  2.1626e-10, -3.1810e-10,\n",
       "          1.3073e-10, -6.1991e-11,  1.4682e-10, -2.6204e-10, -1.0105e-10,\n",
       "          1.1769e-10, -1.0091e-10, -3.0237e-10, -8.0033e-11,  2.5105e-12,\n",
       "         -1.5068e-10,  1.2059e-10, -5.1407e-10,  1.8287e-10,  1.7474e-10,\n",
       "         -1.1806e-10,  2.4621e-10,  1.0878e-11,  1.4896e-10,  2.9353e-10,\n",
       "          4.7767e-11,  1.2290e-10,  1.6285e-10, -2.0736e-10,  3.4346e-11,\n",
       "          9.4104e-11,  4.6271e-11,  5.2703e-10, -2.9992e-10, -5.6305e-11,\n",
       "         -3.3858e-10, -9.6354e-11, -4.1487e-11, -3.5244e-11, -9.7387e-11,\n",
       "         -3.9300e-10,  2.1485e-10,  3.6715e-10, -2.3175e-10,  5.3055e-11,\n",
       "          1.1154e-10,  1.8548e-10, -3.3670e-10, -2.4178e-10,  2.4407e-10,\n",
       "         -1.8375e-10, -2.9734e-10, -1.0509e-10, -5.3495e-11, -4.9600e-11,\n",
       "         -6.2187e-11, -2.5538e-10,  1.4215e-10, -8.5459e-12,  2.8131e-10,\n",
       "         -2.7680e-11,  2.1726e-11,  1.4596e-10,  1.2699e-11, -3.2279e-10,\n",
       "          7.8385e-11, -9.9377e-12,  1.8062e-10,  1.2671e-10, -1.4309e-10,\n",
       "         -5.9121e-11,  2.3572e-10, -1.1173e-10, -3.0130e-10, -9.9672e-11,\n",
       "         -1.8906e-10, -3.2973e-10,  5.9541e-11,  3.2272e-10, -1.2609e-10,\n",
       "          3.3290e-10,  1.0877e-10, -5.2323e-10, -9.2510e-11, -9.8619e-11,\n",
       "         -3.7685e-11, -8.0304e-12,  1.9026e-10,  2.8092e-10,  7.0300e-11,\n",
       "          7.8004e-11, -1.2251e-11,  8.7878e-11,  7.8767e-11,  1.5589e-10,\n",
       "         -2.6551e-10, -2.8048e-11, -7.7370e-11,  5.8787e-10,  2.4692e-11,\n",
       "         -8.7339e-11, -5.1341e-11,  2.9666e-10, -2.7544e-11, -2.3338e-10,\n",
       "          7.4567e-11,  1.6353e-11, -2.7134e-10,  1.0811e-10,  1.1828e-10,\n",
       "         -1.7835e-10,  1.6621e-10, -4.6464e-10, -1.1267e-10,  9.7423e-11,\n",
       "         -1.3154e-10, -2.3917e-11, -1.6926e-10, -2.2284e-10, -2.1190e-10,\n",
       "         -1.7568e-10, -5.1715e-11,  1.5437e-11,  2.7612e-10, -1.4693e-10,\n",
       "         -4.6065e-11,  4.7854e-11, -2.6198e-10, -2.4186e-10,  1.3160e-10,\n",
       "          1.7713e-11, -1.2753e-10, -5.1602e-11, -2.7844e-10, -4.3942e-11,\n",
       "          1.1043e-11,  2.1313e-10,  1.0960e-11,  1.1486e-10,  2.5622e-10,\n",
       "         -1.9271e-10, -1.1598e-10, -1.6211e-11,  2.3385e-10, -1.7738e-10,\n",
       "         -1.0591e-10, -1.0304e-11, -3.7144e-10,  3.7857e-11, -9.0097e-11,\n",
       "         -4.6533e-10,  8.6891e-11, -2.7901e-10,  5.8982e-11,  2.9133e-10,\n",
       "          5.2418e-11,  3.5003e-10,  3.1900e-10,  1.6573e-10, -1.4069e-10,\n",
       "         -3.4489e-10, -1.3361e-10,  3.0412e-11, -4.0611e-10, -2.1056e-10,\n",
       "          1.9735e-10, -1.4547e-10,  1.8845e-10, -9.6932e-11,  1.7699e-10,\n",
       "          1.0783e-10, -4.0751e-10,  2.1457e-10, -1.0050e-10,  1.0579e-10,\n",
       "         -1.5299e-10,  2.0078e-10, -3.2607e-10, -1.2094e-10,  2.0079e-10,\n",
       "          2.9448e-12,  2.7194e-10,  3.4901e-10, -1.7702e-10,  2.1781e-10,\n",
       "         -2.2389e-10, -1.4286e-10,  1.5534e-10,  1.6846e-11, -1.9393e-10,\n",
       "          2.3106e-11, -1.1402e-11, -9.7943e-11,  3.2233e-10, -5.1370e-10,\n",
       "          1.5601e-10, -2.4690e-10,  4.7768e-11,  3.5781e-11, -8.2557e-11,\n",
       "          1.1456e-10, -3.1573e-10, -7.3495e-11,  1.2224e-10, -5.0654e-10,\n",
       "         -1.7734e-10,  3.1340e-10,  2.0824e-10, -2.5532e-10, -8.3637e-11,\n",
       "         -8.0594e-11,  7.5692e-11, -8.4808e-11,  1.5892e-10,  1.0126e-10,\n",
       "         -1.7680e-11, -3.8769e-10,  1.1670e-10, -8.6733e-11,  2.9897e-10,\n",
       "         -1.2082e-10, -5.7943e-11, -1.5510e-10, -1.1516e-10,  1.0856e-10,\n",
       "          1.9775e-10, -2.3307e-10, -2.1456e-11,  1.8392e-10,  1.3761e-10,\n",
       "          2.7479e-10, -2.6883e-10, -2.9156e-10,  1.1716e-10, -4.0669e-10,\n",
       "          2.7227e-11, -3.1964e-11,  3.6783e-11, -8.0481e-11, -1.7350e-10,\n",
       "          1.9034e-10, -1.7109e-11, -7.9377e-11, -2.3728e-10,  3.1985e-10,\n",
       "         -1.8699e-10,  3.8243e-11,  8.6949e-11, -2.7718e-10, -1.0119e-10,\n",
       "         -2.8835e-10,  2.1945e-10, -2.5305e-10,  1.1409e-11,  4.0418e-11,\n",
       "         -1.7906e-11,  1.4329e-10, -3.5025e-10,  8.0392e-11,  1.7496e-10,\n",
       "         -6.3275e-11,  3.3225e-12, -1.2540e-11, -1.1121e-10, -3.3478e-11,\n",
       "          1.8527e-10,  8.6052e-11, -1.2303e-10, -5.4972e-11,  2.1696e-11,\n",
       "          8.5419e-11, -2.1613e-10, -5.8074e-10,  2.5918e-10,  1.2990e-11,\n",
       "          6.6916e-11, -1.0367e-11,  2.9305e-10, -1.3365e-10, -1.8009e-10,\n",
       "         -2.1415e-10, -1.6818e-10,  1.0008e-10, -1.8034e-10, -1.7011e-10,\n",
       "         -7.0857e-12,  4.0951e-11, -8.5553e-11, -5.3866e-11,  1.3867e-10,\n",
       "         -6.5599e-12, -2.3831e-13,  2.6187e-10,  3.8757e-10,  1.0431e-10,\n",
       "         -9.2103e-11, -1.7846e-10, -7.0851e-11, -6.1524e-10, -1.0532e-10,\n",
       "         -1.8903e-10,  1.6238e-10, -7.8202e-11, -9.0143e-11,  9.5522e-12,\n",
       "          1.3535e-10, -6.9784e-12, -1.4370e-10,  1.8385e-10,  2.6731e-10,\n",
       "          3.6446e-11, -3.6772e-10, -2.3990e-10, -2.0666e-10, -1.1334e-10,\n",
       "          3.8340e-12,  3.7193e-11, -2.8055e-10, -2.0118e-11,  1.6429e-10,\n",
       "          8.1919e-11,  1.8404e-10,  3.5302e-10, -3.3949e-10, -2.1173e-10,\n",
       "         -1.8886e-10, -7.6362e-11,  7.0216e-11,  4.5448e-11,  3.9353e-10,\n",
       "          3.3443e-10,  1.4388e-10,  7.8698e-11, -5.5919e-11, -2.3623e-10]],\n",
       "       device='cuda:0', grad_fn=<AddmmBackward0>)"
      ]
     },
     "execution_count": 8,
     "metadata": {},
     "output_type": "execute_result"
    }
   ],
   "source": [
    "outputs"
   ]
  },
  {
   "cell_type": "code",
   "execution_count": 9,
   "metadata": {},
   "outputs": [],
   "source": [
    "# ここからx-means"
   ]
  },
  {
   "cell_type": "code",
   "execution_count": 1,
   "metadata": {},
   "outputs": [],
   "source": [
    "import numpy as np \n",
    "import pandas as pd \n",
    "import matplotlib.pyplot as plt \n",
    "from sklearn import cluster, preprocessing"
   ]
  },
  {
   "cell_type": "code",
   "execution_count": 2,
   "metadata": {},
   "outputs": [],
   "source": [
    "# Wineのデータセット\n",
    "df_wine_all=pd.read_csv('https://archive.ics.uci.edu/ml/machine-learning-databases/wine/wine.data', header=None)\n",
    "#品種(0列、1～3)と色（10列）とプロリンの量(13列)を使用する\n",
    "df_wine=df_wine_all[[0,10,13]]\n",
    "df_wine.columns = [u'class', u'color', u'proline']\n"
   ]
  },
  {
   "cell_type": "code",
   "execution_count": 3,
   "metadata": {},
   "outputs": [],
   "source": [
    "# データの整形\n",
    "X=df_wine[[\"color\",\"proline\"]]\n",
    "sc=preprocessing.StandardScaler()\n",
    "sc.fit(X)\n",
    "X_norm=sc.transform(X)"
   ]
  },
  {
   "cell_type": "code",
   "execution_count": 4,
   "metadata": {},
   "outputs": [
    {
     "data": {
      "text/plain": [
       "<function matplotlib.pyplot.show(close=None, block=None)>"
      ]
     },
     "execution_count": 4,
     "metadata": {},
     "output_type": "execute_result"
    },
    {
     "data": {
      "image/png": "[encoded data removed]",
      "text/plain": [
       "<Figure size 1000x1000 with 1 Axes>"
      ]
     },
     "metadata": {},
     "output_type": "display_data"
    }
   ],
   "source": [
    "# プロット\n",
    "%matplotlib inline\n",
    "\n",
    "x=X_norm[:,0]\n",
    "y=X_norm[:,1]\n",
    "z=df_wine[\"class\"]\n",
    "plt.figure(figsize=(10,10))\n",
    "plt.subplot(4, 1, 1)\n",
    "plt.scatter(x,y, c=z)\n",
    "plt.show"
   ]
  },
  {
   "cell_type": "code",
   "execution_count": 5,
   "metadata": {},
   "outputs": [
    {
     "ename": "AttributeError",
     "evalue": "module 'numpy' has no attribute 'warnings'",
     "output_type": "error",
     "traceback": [
      "\u001b[0;31m---------------------------------------------------------------------------\u001b[0m",
      "\u001b[0;31mAttributeError\u001b[0m                            Traceback (most recent call last)",
      "Cell \u001b[0;32mIn[5], line 4\u001b[0m\n\u001b[1;32m      2\u001b[0m \u001b[38;5;28;01mfrom\u001b[39;00m \u001b[38;5;21;01mpyclustering\u001b[39;00m\u001b[38;5;21;01m.\u001b[39;00m\u001b[38;5;21;01mcluster\u001b[39;00m\u001b[38;5;21;01m.\u001b[39;00m\u001b[38;5;21;01mxmeans\u001b[39;00m \u001b[38;5;28;01mimport\u001b[39;00m xmeans\n\u001b[1;32m      3\u001b[0m \u001b[38;5;28;01mfrom\u001b[39;00m \u001b[38;5;21;01mpyclustering\u001b[39;00m\u001b[38;5;21;01m.\u001b[39;00m\u001b[38;5;21;01mcluster\u001b[39;00m\u001b[38;5;21;01m.\u001b[39;00m\u001b[38;5;21;01mcenter_initializer\u001b[39;00m \u001b[38;5;28;01mimport\u001b[39;00m kmeans_plusplus_initializer\n\u001b[0;32m----> 4\u001b[0m xm_c \u001b[38;5;241m=\u001b[39m \u001b[43mkmeans_plusplus_initializer\u001b[49m\u001b[43m(\u001b[49m\u001b[43mX_norm\u001b[49m\u001b[43m,\u001b[49m\u001b[43m \u001b[49m\u001b[38;5;241;43m2\u001b[39;49m\u001b[43m)\u001b[49m\u001b[38;5;241;43m.\u001b[39;49m\u001b[43minitialize\u001b[49m\u001b[43m(\u001b[49m\u001b[43m)\u001b[49m\n\u001b[1;32m      5\u001b[0m xm_i \u001b[38;5;241m=\u001b[39m xmeans(data\u001b[38;5;241m=\u001b[39mX_norm, initial_centers\u001b[38;5;241m=\u001b[39mxm_c, kmax\u001b[38;5;241m=\u001b[39m\u001b[38;5;241m20\u001b[39m, ccore\u001b[38;5;241m=\u001b[39m\u001b[38;5;28;01mTrue\u001b[39;00m)\n\u001b[1;32m      6\u001b[0m xm_i\u001b[38;5;241m.\u001b[39mprocess()\n",
      "File \u001b[0;32m~/.pyenv/versions/3.10.2/lib/python3.10/site-packages/pyclustering/cluster/center_initializer.py:352\u001b[0m, in \u001b[0;36mkmeans_plusplus_initializer.initialize\u001b[0;34m(self, **kwargs)\u001b[0m\n\u001b[1;32m    350\u001b[0m \u001b[38;5;66;03m# For each next center\u001b[39;00m\n\u001b[1;32m    351\u001b[0m \u001b[38;5;28;01mfor\u001b[39;00m _ \u001b[38;5;129;01min\u001b[39;00m \u001b[38;5;28mrange\u001b[39m(\u001b[38;5;241m1\u001b[39m, \u001b[38;5;28mself\u001b[39m\u001b[38;5;241m.\u001b[39m__amount):\n\u001b[0;32m--> 352\u001b[0m     index_point \u001b[38;5;241m=\u001b[39m \u001b[38;5;28;43mself\u001b[39;49m\u001b[38;5;241;43m.\u001b[39;49m\u001b[43m__get_next_center\u001b[49m\u001b[43m(\u001b[49m\u001b[43mcenters\u001b[49m\u001b[43m)\u001b[49m\n\u001b[1;32m    353\u001b[0m     centers\u001b[38;5;241m.\u001b[39mappend(index_point)\n\u001b[1;32m    354\u001b[0m     \u001b[38;5;28mself\u001b[39m\u001b[38;5;241m.\u001b[39m__free_indexes\u001b[38;5;241m.\u001b[39mremove(index_point)\n",
      "File \u001b[0;32m~/.pyenv/versions/3.10.2/lib/python3.10/site-packages/pyclustering/cluster/center_initializer.py:251\u001b[0m, in \u001b[0;36mkmeans_plusplus_initializer.__get_next_center\u001b[0;34m(self, centers)\u001b[0m\n\u001b[1;32m    240\u001b[0m \u001b[38;5;28;01mdef\u001b[39;00m \u001b[38;5;21m__get_next_center\u001b[39m(\u001b[38;5;28mself\u001b[39m, centers):\n\u001b[1;32m    241\u001b[0m \u001b[38;5;250m    \u001b[39m\u001b[38;5;124;03m\"\"\"!\u001b[39;00m\n\u001b[1;32m    242\u001b[0m \u001b[38;5;124;03m    @brief Calculates the next center for the data.\u001b[39;00m\n\u001b[1;32m    243\u001b[0m \n\u001b[0;32m   (...)\u001b[0m\n\u001b[1;32m    248\u001b[0m \n\u001b[1;32m    249\u001b[0m \u001b[38;5;124;03m    \"\"\"\u001b[39;00m\n\u001b[0;32m--> 251\u001b[0m     distances \u001b[38;5;241m=\u001b[39m \u001b[38;5;28;43mself\u001b[39;49m\u001b[38;5;241;43m.\u001b[39;49m\u001b[43m__calculate_shortest_distances\u001b[49m\u001b[43m(\u001b[49m\u001b[38;5;28;43mself\u001b[39;49m\u001b[38;5;241;43m.\u001b[39;49m\u001b[43m__data\u001b[49m\u001b[43m,\u001b[49m\u001b[43m \u001b[49m\u001b[43mcenters\u001b[49m\u001b[43m)\u001b[49m\n\u001b[1;32m    253\u001b[0m     \u001b[38;5;28;01mif\u001b[39;00m \u001b[38;5;28mself\u001b[39m\u001b[38;5;241m.\u001b[39m__candidates \u001b[38;5;241m==\u001b[39m kmeans_plusplus_initializer\u001b[38;5;241m.\u001b[39mFARTHEST_CENTER_CANDIDATE:\n\u001b[1;32m    254\u001b[0m         \u001b[38;5;28;01mfor\u001b[39;00m index_point \u001b[38;5;129;01min\u001b[39;00m centers:\n",
      "File \u001b[0;32m~/.pyenv/versions/3.10.2/lib/python3.10/site-packages/pyclustering/cluster/center_initializer.py:234\u001b[0m, in \u001b[0;36mkmeans_plusplus_initializer.__calculate_shortest_distances\u001b[0;34m(self, data, centers)\u001b[0m\n\u001b[1;32m    231\u001b[0m     dataset_differences[index_center] \u001b[38;5;241m=\u001b[39m numpy\u001b[38;5;241m.\u001b[39msum(numpy\u001b[38;5;241m.\u001b[39msquare(data \u001b[38;5;241m-\u001b[39m center), axis\u001b[38;5;241m=\u001b[39m\u001b[38;5;241m1\u001b[39m)\u001b[38;5;241m.\u001b[39mT\n\u001b[1;32m    233\u001b[0m \u001b[38;5;28;01mwith\u001b[39;00m warnings\u001b[38;5;241m.\u001b[39mcatch_warnings():\n\u001b[0;32m--> 234\u001b[0m     \u001b[43mnumpy\u001b[49m\u001b[38;5;241;43m.\u001b[39;49m\u001b[43mwarnings\u001b[49m\u001b[38;5;241m.\u001b[39mfilterwarnings(\u001b[38;5;124m'\u001b[39m\u001b[38;5;124mignore\u001b[39m\u001b[38;5;124m'\u001b[39m, \u001b[38;5;124mr\u001b[39m\u001b[38;5;124m'\u001b[39m\u001b[38;5;124mAll-NaN (slice|axis) encountered\u001b[39m\u001b[38;5;124m'\u001b[39m)\n\u001b[1;32m    235\u001b[0m     shortest_distances \u001b[38;5;241m=\u001b[39m numpy\u001b[38;5;241m.\u001b[39mnanmin(dataset_differences, axis\u001b[38;5;241m=\u001b[39m\u001b[38;5;241m0\u001b[39m)\n\u001b[1;32m    237\u001b[0m \u001b[38;5;28;01mreturn\u001b[39;00m shortest_distances\n",
      "File \u001b[0;32m~/.pyenv/versions/3.10.2/lib/python3.10/site-packages/numpy/__init__.py:333\u001b[0m, in \u001b[0;36m__getattr__\u001b[0;34m(attr)\u001b[0m\n\u001b[1;32m    330\u001b[0m     \u001b[38;5;124m\"\u001b[39m\u001b[38;5;124mRemoved in NumPy 1.25.0\u001b[39m\u001b[38;5;124m\"\u001b[39m\n\u001b[1;32m    331\u001b[0m     \u001b[38;5;28;01mraise\u001b[39;00m \u001b[38;5;167;01mRuntimeError\u001b[39;00m(\u001b[38;5;124m\"\u001b[39m\u001b[38;5;124mTester was removed in NumPy 1.25.\u001b[39m\u001b[38;5;124m\"\u001b[39m)\n\u001b[0;32m--> 333\u001b[0m \u001b[38;5;28;01mraise\u001b[39;00m \u001b[38;5;167;01mAttributeError\u001b[39;00m(\u001b[38;5;124m\"\u001b[39m\u001b[38;5;124mmodule \u001b[39m\u001b[38;5;132;01m{!r}\u001b[39;00m\u001b[38;5;124m has no attribute \u001b[39m\u001b[38;5;124m\"\u001b[39m\n\u001b[1;32m    334\u001b[0m                      \u001b[38;5;124m\"\u001b[39m\u001b[38;5;132;01m{!r}\u001b[39;00m\u001b[38;5;124m\"\u001b[39m\u001b[38;5;241m.\u001b[39mformat(\u001b[38;5;18m__name__\u001b[39m, attr))\n",
      "\u001b[0;31mAttributeError\u001b[0m: module 'numpy' has no attribute 'warnings'"
     ]
    }
   ],
   "source": [
    "# x-means\n",
    "from pyclustering.cluster.xmeans import xmeans\n",
    "from pyclustering.cluster.center_initializer import kmeans_plusplus_initializer\n",
    "xm_c = kmeans_plusplus_initializer(X_norm, 2).initialize()\n",
    "xm_i = xmeans(data=X_norm, initial_centers=xm_c, kmax=20, ccore=True)\n",
    "xm_i.process()"
   ]
  },
  {
   "cell_type": "code",
   "execution_count": 15,
   "metadata": {},
   "outputs": [
    {
     "ename": "NameError",
     "evalue": "name 'xm_i' is not defined",
     "output_type": "error",
     "traceback": [
      "\u001b[0;31m---------------------------------------------------------------------------\u001b[0m",
      "\u001b[0;31mNameError\u001b[0m                                 Traceback (most recent call last)",
      "Cell \u001b[0;32mIn[15], line 3\u001b[0m\n\u001b[1;32m      1\u001b[0m \u001b[38;5;66;03m# 結果をプロット\u001b[39;00m\n\u001b[1;32m      2\u001b[0m z_xm \u001b[38;5;241m=\u001b[39m np\u001b[38;5;241m.\u001b[39mones(X_norm\u001b[38;5;241m.\u001b[39mshape[\u001b[38;5;241m0\u001b[39m])\n\u001b[0;32m----> 3\u001b[0m \u001b[38;5;28;01mfor\u001b[39;00m k \u001b[38;5;129;01min\u001b[39;00m \u001b[38;5;28mrange\u001b[39m(\u001b[38;5;28mlen\u001b[39m(\u001b[43mxm_i\u001b[49m\u001b[38;5;241m.\u001b[39m_xmeans__clusters)):\n\u001b[1;32m      4\u001b[0m     z_xm[xm_i\u001b[38;5;241m.\u001b[39m_xmeans__clusters[k]] \u001b[38;5;241m=\u001b[39m k\u001b[38;5;241m+\u001b[39m\u001b[38;5;241m1\u001b[39m\n\u001b[1;32m      6\u001b[0m plt\u001b[38;5;241m.\u001b[39msubplot(\u001b[38;5;241m4\u001b[39m, \u001b[38;5;241m1\u001b[39m, \u001b[38;5;241m2\u001b[39m)\n",
      "\u001b[0;31mNameError\u001b[0m: name 'xm_i' is not defined"
     ]
    }
   ],
   "source": [
    "# 結果をプロット\n",
    "z_xm = np.ones(X_norm.shape[0])\n",
    "for k in range(len(xm_i._xmeans__clusters)):\n",
    "    z_xm[xm_i._xmeans__clusters[k]] = k+1\n",
    "\n",
    "plt.subplot(4, 1, 2)\n",
    "plt.scatter(x,y, c=z_xm)\n",
    "centers = np.array(xm_i._xmeans__centers)\n",
    "plt.scatter(centers[:,0],centers[:,1],s=250, marker='*',c='red')\n",
    "plt.show"
   ]
  },
  {
   "cell_type": "code",
   "execution_count": null,
   "metadata": {},
   "outputs": [],
   "source": []
  }
 ],
 "metadata": {
  "kernelspec": {
   "display_name": "Python 3 (ipykernel)",
   "language": "python",
   "name": "python3"
  },
  "language_info": {
   "codemirror_mode": {
    "name": "ipython",
    "version": 3
   },
   "file_extension": ".py",
   "mimetype": "text/x-python",
   "name": "python",
   "nbconvert_exporter": "python",
   "pygments_lexer": "ipython3",
   "version": "3.10.2"
  }
 },
 "nbformat": 4,
 "nbformat_minor": 4
}
